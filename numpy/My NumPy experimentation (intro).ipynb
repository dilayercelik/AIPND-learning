{
 "cells": [
  {
   "cell_type": "markdown",
   "metadata": {},
   "source": [
    "# Intro to NumPy: my own experimentation"
   ]
  },
  {
   "cell_type": "code",
   "execution_count": 3,
   "metadata": {},
   "outputs": [],
   "source": [
    "import numpy as np"
   ]
  },
  {
   "cell_type": "code",
   "execution_count": 4,
   "metadata": {},
   "outputs": [],
   "source": [
    "x = np.array([1, 2, 3, 4, 5])"
   ]
  },
  {
   "cell_type": "code",
   "execution_count": 5,
   "metadata": {},
   "outputs": [
    {
     "name": "stdout",
     "output_type": "stream",
     "text": [
      "[1 2 3 4 5]\n",
      "(5,)\n",
      "<class 'numpy.ndarray'>\n",
      "int32\n"
     ]
    }
   ],
   "source": [
    "print(x)\n",
    "print(x.shape)\n",
    "print(type(x))\n",
    "print(x.dtype)"
   ]
  },
  {
   "cell_type": "code",
   "execution_count": 6,
   "metadata": {},
   "outputs": [],
   "source": [
    "y = np.array([ [1,2,3], [4,5,6], [7,8,9] ])"
   ]
  },
  {
   "cell_type": "code",
   "execution_count": 7,
   "metadata": {},
   "outputs": [
    {
     "name": "stdout",
     "output_type": "stream",
     "text": [
      "[[1 2 3]\n",
      " [4 5 6]\n",
      " [7 8 9]]\n",
      "(3, 3)\n",
      "<class 'numpy.ndarray'>\n",
      "int32\n"
     ]
    }
   ],
   "source": [
    "print(y)\n",
    "print(y.shape)\n",
    "print(type(y))\n",
    "print(y.dtype)"
   ]
  },
  {
   "cell_type": "code",
   "execution_count": 8,
   "metadata": {},
   "outputs": [
    {
     "data": {
      "text/plain": [
       "array([[1., 1., 1., 1., 1., 1., 1., 1., 1.],\n",
       "       [1., 1., 1., 1., 1., 1., 1., 1., 1.],\n",
       "       [1., 1., 1., 1., 1., 1., 1., 1., 1.],\n",
       "       [1., 1., 1., 1., 1., 1., 1., 1., 1.],\n",
       "       [1., 1., 1., 1., 1., 1., 1., 1., 1.],\n",
       "       [1., 1., 1., 1., 1., 1., 1., 1., 1.]])"
      ]
     },
     "execution_count": 8,
     "metadata": {},
     "output_type": "execute_result"
    }
   ],
   "source": [
    "np.ones((6,9))"
   ]
  },
  {
   "cell_type": "code",
   "execution_count": 9,
   "metadata": {},
   "outputs": [
    {
     "data": {
      "text/plain": [
       "array([[1, 1, 1, 1, 1, 1, 1, 1, 1],\n",
       "       [1, 1, 1, 1, 1, 1, 1, 1, 1],\n",
       "       [1, 1, 1, 1, 1, 1, 1, 1, 1],\n",
       "       [1, 1, 1, 1, 1, 1, 1, 1, 1],\n",
       "       [1, 1, 1, 1, 1, 1, 1, 1, 1],\n",
       "       [1, 1, 1, 1, 1, 1, 1, 1, 1]])"
      ]
     },
     "execution_count": 9,
     "metadata": {},
     "output_type": "execute_result"
    }
   ],
   "source": [
    "np.ones((6,9), dtype = int)"
   ]
  },
  {
   "cell_type": "code",
   "execution_count": 10,
   "metadata": {},
   "outputs": [
    {
     "data": {
      "text/plain": [
       "array([[0., 0., 0., 0., 0.],\n",
       "       [0., 0., 0., 0., 0.]])"
      ]
     },
     "execution_count": 10,
     "metadata": {},
     "output_type": "execute_result"
    }
   ],
   "source": [
    "np.zeros((2,5))"
   ]
  },
  {
   "cell_type": "code",
   "execution_count": 11,
   "metadata": {},
   "outputs": [
    {
     "data": {
      "text/plain": [
       "array([[0, 0, 0, 0, 0],\n",
       "       [0, 0, 0, 0, 0]])"
      ]
     },
     "execution_count": 11,
     "metadata": {},
     "output_type": "execute_result"
    }
   ],
   "source": [
    "np.zeros((2,5), dtype = int)"
   ]
  },
  {
   "cell_type": "code",
   "execution_count": 12,
   "metadata": {},
   "outputs": [
    {
     "data": {
      "text/plain": [
       "array([[7, 7, 7, 7, 7, 7],\n",
       "       [7, 7, 7, 7, 7, 7],\n",
       "       [7, 7, 7, 7, 7, 7],\n",
       "       [7, 7, 7, 7, 7, 7]])"
      ]
     },
     "execution_count": 12,
     "metadata": {},
     "output_type": "execute_result"
    }
   ],
   "source": [
    "np.full((4,6), 7)"
   ]
  },
  {
   "cell_type": "markdown",
   "metadata": {},
   "source": [
    "# - Matrix\n",
    "\n",
    "A **matrix** is a **2** dimensional array, with size = row x column.\n",
    "\n",
    "## Example\n",
    "> `np.array( [ [1,2,3], [4,5,6], [7,8,9] ] )`"
   ]
  },
  {
   "cell_type": "markdown",
   "metadata": {},
   "source": [
    "# - Identity matrix (famous in linear algebra)\n",
    "\n",
    "## Definition\n",
    "> An identity matrix is a square-shaped 2-dimensional matrix, with only 1s along its main diagonal and 0s everywhere else.\n",
    "\n",
    "### Below, see an example of identity matrix: a 5x5 identity matrix\n"
   ]
  },
  {
   "cell_type": "code",
   "execution_count": 13,
   "metadata": {},
   "outputs": [
    {
     "name": "stdout",
     "output_type": "stream",
     "text": [
      "[[1. 0. 0. 0. 0.]\n",
      " [0. 1. 0. 0. 0.]\n",
      " [0. 0. 1. 0. 0.]\n",
      " [0. 0. 0. 1. 0.]\n",
      " [0. 0. 0. 0. 1.]]\n"
     ]
    }
   ],
   "source": [
    "I = np.eye(5)\n",
    "print(I)"
   ]
  },
  {
   "cell_type": "markdown",
   "metadata": {},
   "source": [
    "# - Diagonal Matrix\n",
    "\n",
    "## Definition\n",
    "> Square-shaped 2-dimensional matrix with numbers along its main diagonal and 0s everywhere else.\n",
    "\n",
    "### Below, see an example of a 5x5 (2D) diagonal matrix"
   ]
  },
  {
   "cell_type": "code",
   "execution_count": 14,
   "metadata": {},
   "outputs": [
    {
     "name": "stdout",
     "output_type": "stream",
     "text": [
      "[[10  0  0  0  0]\n",
      " [ 0 20  0  0  0]\n",
      " [ 0  0 30  0  0]\n",
      " [ 0  0  0 40  0]\n",
      " [ 0  0  0  0 50]]\n"
     ]
    }
   ],
   "source": [
    "D = np.diag( [10, 20, 30, 40, 50] )\n",
    "print(D)"
   ]
  },
  {
   "cell_type": "markdown",
   "metadata": {},
   "source": [
    "# - Numpy's arange()\n",
    "\n",
    "> Arguments\n",
    "`np.arange(start, stop, step)`\n",
    "\n",
    "## Note: \n",
    "- stop is exclusive.\n",
    "\n",
    "- you can specify 1 argument (will be the stop arg, with default start = 0, default step = 1)\n",
    "- you can specify 2 arguments (will be start and stop, with default step = 1)\n",
    "- you can specify all 3 arguments. \n"
   ]
  },
  {
   "cell_type": "code",
   "execution_count": 15,
   "metadata": {},
   "outputs": [
    {
     "name": "stdout",
     "output_type": "stream",
     "text": [
      "[1 3 5 7 9]\n"
     ]
    }
   ],
   "source": [
    "c = np.arange(1, 10, 2)\n",
    "print(c)"
   ]
  },
  {
   "cell_type": "code",
   "execution_count": 16,
   "metadata": {},
   "outputs": [
    {
     "name": "stdout",
     "output_type": "stream",
     "text": [
      "[ 2  3  4  5  6  7  8  9 10 11 12 13 14 15 16 17 18]\n"
     ]
    }
   ],
   "source": [
    "d = np.arange(2, 19)\n",
    "print(d)"
   ]
  },
  {
   "cell_type": "code",
   "execution_count": 17,
   "metadata": {},
   "outputs": [
    {
     "name": "stdout",
     "output_type": "stream",
     "text": [
      "[0 1 2 3 4 5 6 7 8 9]\n"
     ]
    }
   ],
   "source": [
    "e = np.arange(10)\n",
    "print(e)"
   ]
  },
  {
   "cell_type": "markdown",
   "metadata": {},
   "source": [
    "# - np.linspace()\n",
    "\n",
    "> Arguments\n",
    "`np.linspace(start, stop, n)`\n",
    "\n",
    "# n\n",
    "> n is the number of evenly spaced numbers wanted in the range from start to end \n",
    ">> NOT EQUAL TO THE STEP, step is the distance between 2 consecutive numbers e.g. in np.arange()\n",
    "\n",
    "## Note:\n",
    "\n",
    "- start AND stop are inclusive, *unlike np.arange() where stop was exclusive*.\n",
    "\n",
    "- requires AT LEAST **2** arguments, *unlike np.arange() where one was enough*.\n",
    "\n",
    "- if not specified, n = 50\n"
   ]
  },
  {
   "cell_type": "code",
   "execution_count": 18,
   "metadata": {},
   "outputs": [
    {
     "name": "stdout",
     "output_type": "stream",
     "text": [
      "[ 0.          2.77777778  5.55555556  8.33333333 11.11111111 13.88888889\n",
      " 16.66666667 19.44444444 22.22222222 25.        ]\n"
     ]
    }
   ],
   "source": [
    "z = np.linspace(0, 25, 10)  # we want 10 evenly spaced numbers in the range of 0 (inclusive) to 25 (inclusive!!)\n",
    "print(z)"
   ]
  },
  {
   "cell_type": "markdown",
   "metadata": {},
   "source": [
    "## Additional argument to np.linspace()\n",
    "\n",
    "If you set the argument `endpoint = False` in np.linespace, the end is **excluded**\n",
    "\n",
    "### Below, see an example"
   ]
  },
  {
   "cell_type": "code",
   "execution_count": 19,
   "metadata": {},
   "outputs": [
    {
     "name": "stdout",
     "output_type": "stream",
     "text": [
      "[ 0.   2.5  5.   7.5 10.  12.5 15.  17.5 20.  22.5]\n"
     ]
    }
   ],
   "source": [
    "u = np.linspace(0, 25, 10, endpoint=False)\n",
    "print(u)"
   ]
  },
  {
   "cell_type": "markdown",
   "metadata": {},
   "source": [
    "> Above, we have the 10 evenly spaced numbers in the range from 0 (inclusive) to 25 (**exclusive**).\n",
    "\n",
    "> Because the range is now from 0 to 24 inclusive, the spacing between the values changed."
   ]
  },
  {
   "cell_type": "markdown",
   "metadata": {},
   "source": [
    "# - np.reshape()"
   ]
  },
  {
   "cell_type": "code",
   "execution_count": 20,
   "metadata": {},
   "outputs": [
    {
     "name": "stdout",
     "output_type": "stream",
     "text": [
      "[ 0  1  2  3  4  5  6  7  8  9 10 11 12 13 14 15 16 17 18 19]\n"
     ]
    }
   ],
   "source": [
    "x = np.arange(0, 20)\n",
    "print(x)"
   ]
  },
  {
   "cell_type": "markdown",
   "metadata": {},
   "source": [
    "**Above**, we have a 1D array of shape (20,)"
   ]
  },
  {
   "cell_type": "code",
   "execution_count": 21,
   "metadata": {},
   "outputs": [
    {
     "name": "stdout",
     "output_type": "stream",
     "text": [
      "[[ 0  1  2  3  4]\n",
      " [ 5  6  7  8  9]\n",
      " [10 11 12 13 14]\n",
      " [15 16 17 18 19]]\n"
     ]
    }
   ],
   "source": [
    "x = np.reshape(x, (4,5))   # the new shape must be compatible with the number of elements in x (= 20)\n",
    "print(x)"
   ]
  },
  {
   "cell_type": "markdown",
   "metadata": {},
   "source": [
    "**NOW, above**, we have a 2D array of shape (4,5)"
   ]
  },
  {
   "cell_type": "markdown",
   "metadata": {},
   "source": [
    "> other shapes of 2D arrays compatible with a 1D 20-elements array:\n",
    "\n",
    "- (5,4)\n",
    "- (2,10)\n",
    "- (10,2)"
   ]
  },
  {
   "cell_type": "markdown",
   "metadata": {},
   "source": [
    "# - NumPy Array Methods\n"
   ]
  },
  {
   "cell_type": "code",
   "execution_count": 22,
   "metadata": {},
   "outputs": [
    {
     "name": "stdout",
     "output_type": "stream",
     "text": [
      "[[ 0  1  2  3  4]\n",
      " [ 5  6  7  8  9]\n",
      " [10 11 12 13 14]\n",
      " [15 16 17 18 19]]\n"
     ]
    }
   ],
   "source": [
    "x = np.arange(20).reshape((4,5))  # same result as above\n",
    "print(x)"
   ]
  },
  {
   "cell_type": "code",
   "execution_count": 23,
   "metadata": {},
   "outputs": [
    {
     "name": "stdout",
     "output_type": "stream",
     "text": [
      "[[ 0.          1.81818182  3.63636364]\n",
      " [ 5.45454545  7.27272727  9.09090909]\n",
      " [10.90909091 12.72727273 14.54545455]\n",
      " [16.36363636 18.18181818 20.        ]]\n"
     ]
    }
   ],
   "source": [
    "y = np.linspace(0, 20, 12).reshape((4,3))\n",
    "print(y)"
   ]
  },
  {
   "cell_type": "markdown",
   "metadata": {},
   "source": [
    "# - NumPy arrays containing RANDOM numbers\n",
    "\n",
    "## Example below: the random function from the random module of NumPy\n",
    ">  argument = shape of the array\n",
    "\n",
    "> array of precised shape contains random numbers between 0 (inclusive) and 1 (exclusive)."
   ]
  },
  {
   "cell_type": "code",
   "execution_count": 24,
   "metadata": {},
   "outputs": [
    {
     "name": "stdout",
     "output_type": "stream",
     "text": [
      "[[0.32502357 0.75497644 0.26634176]\n",
      " [0.21300741 0.45726526 0.72086967]\n",
      " [0.34971756 0.87816949 0.338705  ]]\n"
     ]
    }
   ],
   "source": [
    "x = np.random.random((3,3))\n",
    "print(x)"
   ]
  },
  {
   "cell_type": "markdown",
   "metadata": {},
   "source": [
    "## Example below: the randint function from the random module of NumPy\n",
    "> arguments: lower bound (inclusive), upper bound (exclusive), shape\n",
    "\n",
    "> array of precised shape contains random numbers in the specified range."
   ]
  },
  {
   "cell_type": "code",
   "execution_count": 25,
   "metadata": {},
   "outputs": [
    {
     "name": "stdout",
     "output_type": "stream",
     "text": [
      "[[ 4  1 12  9  8]\n",
      " [11 18 13  4  9]\n",
      " [18 18 14  9 12]\n",
      " [12  1  3 15 16]\n",
      " [19  9 17  5 18]\n",
      " [ 8  2  0 19  4]]\n"
     ]
    }
   ],
   "source": [
    "y = np.random.randint(0, 20, (6,5))\n",
    "print(y)"
   ]
  },
  {
   "cell_type": "markdown",
   "metadata": {},
   "source": [
    "## Example: random numbers drawn from proba distributions\n",
    "\n",
    "## example below: np.random.normal()\n",
    "\n",
    "> arguments: mean, sd, size"
   ]
  },
  {
   "cell_type": "code",
   "execution_count": 26,
   "metadata": {},
   "outputs": [
    {
     "name": "stdout",
     "output_type": "stream",
     "text": [
      "[[ 5.42447575e-03  9.92527346e-02 -1.04935498e-02 -4.66713255e-02\n",
      "   1.36256217e-01 -3.10660305e-02  9.44022009e-02  1.60550345e-02\n",
      "   5.64860314e-02 -1.25951291e-02]\n",
      " [ 1.94394556e-01  9.18821776e-02 -3.18465140e-02 -1.83768174e-02\n",
      "   6.07484409e-02 -2.16470869e-02  1.44620582e-01  6.69905771e-02\n",
      "  -1.18089578e-01 -1.86186785e-01]\n",
      " [ 2.45528225e-01  5.94936757e-02 -1.04548557e-01  5.41436647e-02\n",
      "   1.27153428e-01  7.11930713e-02 -2.56584346e-01 -3.84623582e-02\n",
      "  -6.23042012e-02 -1.01207337e-01]\n",
      " [ 1.21275307e-01  4.41673805e-02  1.11250636e-01 -1.66765354e-03\n",
      "  -1.43152911e-02  9.02392986e-02 -8.53770621e-02 -3.35955114e-02\n",
      "  -4.67999445e-02  6.44384917e-02]\n",
      " [-1.50735902e-01 -1.18386329e-01  7.49684909e-02  4.12047712e-03\n",
      "   5.89485411e-02 -9.45589534e-02  2.13384978e-01 -8.55002708e-02\n",
      "  -3.67202817e-02  1.32597528e-01]\n",
      " [-2.85895931e-02  7.61686910e-02  1.76872714e-01  1.71173895e-02\n",
      "   4.18512364e-02  3.42794082e-02  1.03450759e-01  1.25912252e-01\n",
      "  -7.08352304e-03  1.76116391e-01]\n",
      " [-1.02813074e-01  2.40603229e-03  1.57231138e-02  5.10662269e-02\n",
      "  -1.65896542e-01  9.22895562e-02  2.03865594e-02  9.64090506e-02\n",
      "   3.89694501e-02 -2.35590119e-01]\n",
      " [ 1.96445391e-04 -6.93048610e-04 -2.87334694e-02  1.31207649e-01\n",
      "   9.59917192e-02 -7.80203517e-02  3.71016394e-02  6.78360445e-02\n",
      "  -1.01853001e-01  1.15680598e-01]\n",
      " [ 7.39506986e-02  3.84164427e-02 -1.50331582e-01 -2.27187287e-02\n",
      "   4.58482619e-02  2.25926457e-02  2.55319051e-02 -4.65394863e-02\n",
      "   9.04303789e-02  2.63123733e-02]\n",
      " [-2.42684896e-02  2.56789961e-03  7.06759806e-02 -7.30535249e-02\n",
      "   1.99048187e-03 -1.41763474e-01  1.15271851e-01 -1.88318736e-02\n",
      "   1.64384486e-03 -9.59180160e-02]]\n"
     ]
    }
   ],
   "source": [
    "x = np.random.normal(0, 0.1, size = (10,10))\n",
    "print(x)"
   ]
  },
  {
   "cell_type": "code",
   "execution_count": 27,
   "metadata": {},
   "outputs": [
    {
     "name": "stdout",
     "output_type": "stream",
     "text": [
      "0.014412472017236617\n",
      "0.09404966757454236\n",
      "0.24552822465122862\n",
      "-0.2565843458885939\n"
     ]
    }
   ],
   "source": [
    "print(x.mean())  # very close to 0, argument passed to np.random.normal() above\n",
    "print(x.std())   # very close to 0.1, argument passed to np.random.normal() above\n",
    "print(x.max())\n",
    "print(x.min())  # min and max are approx. symmetrical about mean of x, so that also satisfies another statistical property."
   ]
  },
  {
   "cell_type": "markdown",
   "metadata": {},
   "source": [
    "# - Idexing, accesing, changing elements in ndarrays"
   ]
  },
  {
   "cell_type": "code",
   "execution_count": 28,
   "metadata": {},
   "outputs": [
    {
     "name": "stdout",
     "output_type": "stream",
     "text": [
      "[1 2 3 4 5]\n"
     ]
    }
   ],
   "source": [
    "x = np.array( [1, 2, 3, 4, 5])\n",
    "print(x)"
   ]
  },
  {
   "cell_type": "code",
   "execution_count": 29,
   "metadata": {},
   "outputs": [
    {
     "name": "stdout",
     "output_type": "stream",
     "text": [
      "4\n"
     ]
    }
   ],
   "source": [
    "print(x[3]) # accessing x's FOURTH element (ndarrays have 0-indexing, like lists in plain python)"
   ]
  },
  {
   "cell_type": "markdown",
   "metadata": {},
   "source": [
    "**Note: ndarrays are MUTABLE.**\n",
    "> See below:"
   ]
  },
  {
   "cell_type": "code",
   "execution_count": 30,
   "metadata": {},
   "outputs": [
    {
     "name": "stdout",
     "output_type": "stream",
     "text": [
      "[ 1  2 31  4  5]\n"
     ]
    }
   ],
   "source": [
    "x[2] = 31 # changing x's THIRD element from 3 to 31\n",
    "print(x)"
   ]
  },
  {
   "cell_type": "code",
   "execution_count": 31,
   "metadata": {},
   "outputs": [
    {
     "name": "stdout",
     "output_type": "stream",
     "text": [
      "[[ 2  4]\n",
      " [ 6  8]\n",
      " [10 12]\n",
      " [14 16]\n",
      " [18 20]]\n"
     ]
    }
   ],
   "source": [
    "y = np.linspace(2, 20, 10, dtype=int).reshape((5,2))\n",
    "print(y)"
   ]
  },
  {
   "cell_type": "code",
   "execution_count": 32,
   "metadata": {},
   "outputs": [
    {
     "name": "stdout",
     "output_type": "stream",
     "text": [
      "12\n"
     ]
    }
   ],
   "source": [
    "print(y[(2, 1)])  # accessing the element in the 3rd row and 2nd column = 12"
   ]
  },
  {
   "cell_type": "code",
   "execution_count": 33,
   "metadata": {},
   "outputs": [
    {
     "name": "stdout",
     "output_type": "stream",
     "text": [
      "[[ 2  4]\n",
      " [ 6  8]\n",
      " [10 34]\n",
      " [14 16]\n",
      " [18 20]]\n"
     ]
    }
   ],
   "source": [
    "y[(2,1)] = 34    # changing the value of the element in the 3rd row and 2nd column, from 12 TO 34\n",
    "print(y)"
   ]
  },
  {
   "cell_type": "markdown",
   "metadata": {},
   "source": [
    "# - Delete elements from ndarrays\n",
    "\n",
    "## for rank 2 arrays:\n",
    "\n",
    "**additional argument** to specify: **axis**\n",
    "> axis = 0 for selecting rows \n",
    "> axis = 1 for selecting columns"
   ]
  },
  {
   "cell_type": "code",
   "execution_count": 34,
   "metadata": {},
   "outputs": [
    {
     "name": "stdout",
     "output_type": "stream",
     "text": [
      "[1 2 3 4 5]\n"
     ]
    }
   ],
   "source": [
    "x = np.array( [1,2,3,4,5] )\n",
    "print(x)"
   ]
  },
  {
   "cell_type": "code",
   "execution_count": 35,
   "metadata": {},
   "outputs": [
    {
     "name": "stdout",
     "output_type": "stream",
     "text": [
      "[2 3 4]\n"
     ]
    }
   ],
   "source": [
    "x = np.delete(x, [0, 4])  # deleting the FIRST and the FIFTH/LAST elements of x\n",
    "print(x)"
   ]
  },
  {
   "cell_type": "code",
   "execution_count": 36,
   "metadata": {},
   "outputs": [
    {
     "name": "stdout",
     "output_type": "stream",
     "text": [
      "[[1 2 3]\n",
      " [4 5 6]\n",
      " [7 8 9]]\n"
     ]
    }
   ],
   "source": [
    "Y = np.arange(1,10).reshape((3,3))\n",
    "print(Y)"
   ]
  },
  {
   "cell_type": "code",
   "execution_count": 37,
   "metadata": {},
   "outputs": [
    {
     "name": "stdout",
     "output_type": "stream",
     "text": [
      "[[4 5 6]\n",
      " [7 8 9]]\n"
     ]
    }
   ],
   "source": [
    "W = np.delete(Y, 0, axis=0)  # deleting FIRST ROW of Y\n",
    "print(W)"
   ]
  },
  {
   "cell_type": "code",
   "execution_count": 38,
   "metadata": {},
   "outputs": [
    {
     "name": "stdout",
     "output_type": "stream",
     "text": [
      "[[1 3]\n",
      " [4 6]\n",
      " [7 9]]\n"
     ]
    }
   ],
   "source": [
    "V = np.delete(Y, 1, axis=1)  # deleting the SECOND COLUMN of Y\n",
    "print(V)"
   ]
  },
  {
   "cell_type": "code",
   "execution_count": 39,
   "metadata": {},
   "outputs": [
    {
     "name": "stdout",
     "output_type": "stream",
     "text": [
      "[[3]\n",
      " [6]\n",
      " [9]]\n"
     ]
    }
   ],
   "source": [
    "B = np.delete(Y, [0,1], axis=1)  # deleting the first AND second COLUMNS of Y\n",
    "print(B)"
   ]
  },
  {
   "cell_type": "markdown",
   "metadata": {},
   "source": [
    "# - Add values to ndarrays\n",
    "\n",
    "## The append function"
   ]
  },
  {
   "cell_type": "markdown",
   "metadata": {},
   "source": [
    "### in rank 1 arrays:"
   ]
  },
  {
   "cell_type": "code",
   "execution_count": 40,
   "metadata": {},
   "outputs": [
    {
     "name": "stdout",
     "output_type": "stream",
     "text": [
      "[1 2 3 4 5]\n"
     ]
    }
   ],
   "source": [
    "x = np.array( [1,2,3,4,5] )\n",
    "print(x)"
   ]
  },
  {
   "cell_type": "code",
   "execution_count": 41,
   "metadata": {},
   "outputs": [
    {
     "name": "stdout",
     "output_type": "stream",
     "text": [
      "[1 2 3 4 5 6]\n"
     ]
    }
   ],
   "source": [
    "x = np.append(x, 6)  # appending 6 to rank 1 array x\n",
    "print(x)"
   ]
  },
  {
   "cell_type": "code",
   "execution_count": 42,
   "metadata": {},
   "outputs": [
    {
     "name": "stdout",
     "output_type": "stream",
     "text": [
      "[1 2 3 4 5 6 7 8]\n"
     ]
    }
   ],
   "source": [
    "x = np.append(x, [7,8])  # appending 7 AND 8 to rank 1 array x, using a list [7,8]\n",
    "print(x)"
   ]
  },
  {
   "cell_type": "markdown",
   "metadata": {},
   "source": [
    "### in rank 2 arrays:"
   ]
  },
  {
   "cell_type": "code",
   "execution_count": 43,
   "metadata": {},
   "outputs": [
    {
     "name": "stdout",
     "output_type": "stream",
     "text": [
      "[[1 2 3]\n",
      " [4 5 6]\n",
      " [7 8 9]]\n"
     ]
    }
   ],
   "source": [
    "y = np.arange(1,10).reshape(3,3)\n",
    "print(y)"
   ]
  },
  {
   "cell_type": "code",
   "execution_count": 44,
   "metadata": {},
   "outputs": [
    {
     "name": "stdout",
     "output_type": "stream",
     "text": [
      "[[ 1  2  3]\n",
      " [ 4  5  6]\n",
      " [ 7  8  9]\n",
      " [10 11 12]]\n"
     ]
    }
   ],
   "source": [
    "y = np.append(y, [ [10, 11, 12] ], axis=0)   # appending [10 11 12], new row, to rank 2 array y (along the axis of rows, 0)\n",
    "print(y)"
   ]
  },
  {
   "cell_type": "code",
   "execution_count": 45,
   "metadata": {},
   "outputs": [
    {
     "name": "stdout",
     "output_type": "stream",
     "text": [
      "[[ 1  2  3 -1]\n",
      " [ 4  5  6 -2]\n",
      " [ 7  8  9 -3]\n",
      " [10 11 12 -4]]\n"
     ]
    }
   ],
   "source": [
    "y = np.append(y, [ [-1], [-2], [-3], [-4] ], axis=1)  # appending a new column to rank 2 array y (along the axis of columns, 1)\n",
    "print(y)"
   ]
  },
  {
   "cell_type": "markdown",
   "metadata": {},
   "source": [
    "# - Insert values to ndarrays (in between other values, not to the end)"
   ]
  },
  {
   "cell_type": "markdown",
   "metadata": {},
   "source": [
    "## in rank 1 arrays:"
   ]
  },
  {
   "cell_type": "code",
   "execution_count": 46,
   "metadata": {},
   "outputs": [
    {
     "name": "stdout",
     "output_type": "stream",
     "text": [
      "[1 2 5 6]\n"
     ]
    }
   ],
   "source": [
    "x = np.array( [1, 2, 5, 6] )\n",
    "print(x)"
   ]
  },
  {
   "cell_type": "code",
   "execution_count": 47,
   "metadata": {},
   "outputs": [
    {
     "name": "stdout",
     "output_type": "stream",
     "text": [
      "[1 2 3 4 5 6]\n"
     ]
    }
   ],
   "source": [
    "x = np.insert(x, 2, [3,4])  # inserting 3 and 4, with starting index = 2 \n",
    "print(x)"
   ]
  },
  {
   "cell_type": "markdown",
   "metadata": {},
   "source": [
    "## in rank 2 arrays: (inserting an entire row or column)"
   ]
  },
  {
   "cell_type": "code",
   "execution_count": 48,
   "metadata": {},
   "outputs": [
    {
     "name": "stdout",
     "output_type": "stream",
     "text": [
      "[[1 2 3]\n",
      " [7 8 9]]\n"
     ]
    }
   ],
   "source": [
    "y = np.array( [ [1,2,3], [7,8,9] ] )\n",
    "print(y)"
   ]
  },
  {
   "cell_type": "code",
   "execution_count": 49,
   "metadata": {},
   "outputs": [
    {
     "name": "stdout",
     "output_type": "stream",
     "text": [
      "[[1 2 3]\n",
      " [4 5 6]\n",
      " [7 8 9]]\n"
     ]
    }
   ],
   "source": [
    "y = np.insert(y, 1, [ [4,5,6] ], axis=0)  # inserting a new row as the second row (index = 1)\n",
    "print(y)"
   ]
  },
  {
   "cell_type": "code",
   "execution_count": 50,
   "metadata": {},
   "outputs": [
    {
     "name": "stdout",
     "output_type": "stream",
     "text": [
      "[[1 2 5 3]\n",
      " [4 5 5 6]\n",
      " [7 8 5 9]]\n"
     ]
    }
   ],
   "source": [
    "y = np.insert(y, 2, 5, axis=1)  # inserts a new colum full of 5, as the third column of the rank 2 4x3 array y\n",
    "print(y)"
   ]
  },
  {
   "cell_type": "markdown",
   "metadata": {},
   "source": [
    "# - Stack NumPy arrays\n",
    "\n",
    "**condition: the shape of the arrays we want to stack MUST be IDENTICAL.**"
   ]
  },
  {
   "cell_type": "markdown",
   "metadata": {},
   "source": [
    "## On top of each other (vertical stacking):"
   ]
  },
  {
   "cell_type": "code",
   "execution_count": 51,
   "metadata": {},
   "outputs": [
    {
     "name": "stdout",
     "output_type": "stream",
     "text": [
      "[[ 1  2  3  4  5]\n",
      " [ 6  7  8  9 10]]\n"
     ]
    }
   ],
   "source": [
    "a = np.array([1,2,3,4,5])\n",
    "b = np.array([6,7,8,9,10])\n",
    "\n",
    "I = np.vstack((a,b))\n",
    "print(I)"
   ]
  },
  {
   "cell_type": "code",
   "execution_count": 52,
   "metadata": {},
   "outputs": [
    {
     "name": "stdout",
     "output_type": "stream",
     "text": [
      "[[2 7 8]\n",
      " [0 1 2]\n",
      " [3 4 5]]\n"
     ]
    }
   ],
   "source": [
    "c = np.array([2,7,8])\n",
    "\n",
    "d = np.arange(0,6).reshape(2,3)\n",
    "\n",
    "J = np.vstack((c,d))\n",
    "print(J)"
   ]
  },
  {
   "cell_type": "markdown",
   "metadata": {},
   "source": [
    "## Side by side (horizontal stacking):"
   ]
  },
  {
   "cell_type": "code",
   "execution_count": 53,
   "metadata": {},
   "outputs": [
    {
     "name": "stdout",
     "output_type": "stream",
     "text": [
      "[ 1  2  3  4  5  6  7  8  9 10]\n"
     ]
    }
   ],
   "source": [
    "M = np.hstack((a,b))\n",
    "print(M)"
   ]
  },
  {
   "cell_type": "code",
   "execution_count": 54,
   "metadata": {},
   "outputs": [
    {
     "name": "stdout",
     "output_type": "stream",
     "text": [
      "[[ 0  1  2 10 11 12]\n",
      " [ 3  4  5 13 14 15]\n",
      " [ 6  7  8 16 17 18]]\n"
     ]
    }
   ],
   "source": [
    "e = np.arange(0,9).reshape(3,3)\n",
    "\n",
    "f = np.arange(10, 19).reshape(3,3)\n",
    "\n",
    "N = np.hstack((e,f))\n",
    "print(N)"
   ]
  },
  {
   "cell_type": "markdown",
   "metadata": {},
   "source": [
    "# - Slicing ndarrays\n",
    "\n",
    "> Access subsets of NumPy arrays with **slicing**, instead of accessing one element at a time.\n",
    "\n",
    "> 3 ways of slicing:\n",
    "\n",
    "|ndarray[start:end]  | specified start and specified end indexes                                        |\n",
    "|--------------------|----------------------------------------------------------------------------------|                      |ndarray[start:]     | no specified end, so default end = the index of the last value of the array      |\n",
    "|--------------------|----------------------------------------------------------------------------------|                       | ndarray[:end]      | no specified start, so default start = the index of the first value of the array |\n",
    "\n",
    "> ending index is always exclusive.\n",
    "          "
   ]
  },
  {
   "cell_type": "code",
   "execution_count": 55,
   "metadata": {},
   "outputs": [
    {
     "name": "stdout",
     "output_type": "stream",
     "text": [
      "[[ 1  2  3  4  5]\n",
      " [ 6  7  8  9 10]\n",
      " [11 12 13 14 15]\n",
      " [16 17 18 19 20]]\n"
     ]
    }
   ],
   "source": [
    "x = np.arange(1, 21).reshape(4,5)\n",
    "print(x)"
   ]
  },
  {
   "cell_type": "code",
   "execution_count": 56,
   "metadata": {},
   "outputs": [
    {
     "name": "stdout",
     "output_type": "stream",
     "text": [
      "[[12 13 14]\n",
      " [17 18 19]]\n"
     ]
    }
   ],
   "source": [
    "z = x[2:, 1:4]     # x[rows, columns]\n",
    "print(z)"
   ]
  },
  {
   "cell_type": "code",
   "execution_count": 57,
   "metadata": {},
   "outputs": [
    {
     "name": "stdout",
     "output_type": "stream",
     "text": [
      "[ 6  7  8  9 10]\n"
     ]
    }
   ],
   "source": [
    "w = x[1, :]   # selects the entire second row of x\n",
    "print(w)"
   ]
  },
  {
   "cell_type": "markdown",
   "metadata": {},
   "source": [
    "# IMPORTANT:\n",
    "\n",
    "## - z and w are now \"views of x\": they aren't new variables that store one part of x.\n",
    "## - SO making changes to w or z will ALSO change the corresponding parts in x !"
   ]
  },
  {
   "cell_type": "code",
   "execution_count": 58,
   "metadata": {},
   "outputs": [
    {
     "name": "stdout",
     "output_type": "stream",
     "text": [
      "[[ 12  13  14]\n",
      " [ 17 529  19]] \n",
      "\n",
      "[[  1   2   3   4   5]\n",
      " [  6   7   8   9  10]\n",
      " [ 11  12  13  14  15]\n",
      " [ 16  17 529  19  20]] \n",
      "\n"
     ]
    }
   ],
   "source": [
    "# see what z is above\n",
    "\n",
    "z[1, 1] = 529  # changing 18 to 529 in z\n",
    "print(z, '\\n')\n",
    "\n",
    "print(x, '\\n')"
   ]
  },
  {
   "cell_type": "markdown",
   "metadata": {},
   "source": [
    "## Above:\n",
    "\n",
    "you can see that the change in z also occured in x."
   ]
  },
  {
   "cell_type": "markdown",
   "metadata": {},
   "source": [
    "## > Creating NEW arrays (not views) that are slices of another array\n",
    "### Using NumPy's copy function/method"
   ]
  },
  {
   "cell_type": "code",
   "execution_count": 59,
   "metadata": {},
   "outputs": [
    {
     "name": "stdout",
     "output_type": "stream",
     "text": [
      "[[ 1  2  3  4  5]\n",
      " [ 6  7  8  9 10]\n",
      " [11 12 13 14 15]\n",
      " [16 17 18 19 20]]\n"
     ]
    }
   ],
   "source": [
    "x = np.arange(1,21).reshape(4,5)\n",
    "print(x)"
   ]
  },
  {
   "cell_type": "code",
   "execution_count": 60,
   "metadata": {},
   "outputs": [
    {
     "name": "stdout",
     "output_type": "stream",
     "text": [
      "[[12 13 14]\n",
      " [17 18 19]]\n"
     ]
    }
   ],
   "source": [
    "z = np.copy(x[2:, 1:4])   # using NumPy's copy function: can also write z = x[2:, 1:4].copy() -> AS A METHOD\n",
    "print(z)"
   ]
  },
  {
   "cell_type": "code",
   "execution_count": 61,
   "metadata": {},
   "outputs": [
    {
     "name": "stdout",
     "output_type": "stream",
     "text": [
      "[[ 12  13  14]\n",
      " [ 17  18 281]] \n",
      "\n",
      "[[ 1  2  3  4  5]\n",
      " [ 6  7  8  9 10]\n",
      " [11 12 13 14 15]\n",
      " [16 17 18 19 20]] \n",
      "\n"
     ]
    }
   ],
   "source": [
    "z[1, 2] = 281\n",
    "print(z, '\\n')\n",
    "\n",
    "print(x, '\\n')  # x IS NOT AFFECTED BY THE CHANGE IN Z NOW"
   ]
  },
  {
   "cell_type": "markdown",
   "metadata": {},
   "source": [
    "> Using np.copy(), we have created an array 'z' completely independent of x."
   ]
  },
  {
   "cell_type": "markdown",
   "metadata": {},
   "source": [
    "# - Extracting values along the main diagonal of an ndarray"
   ]
  },
  {
   "cell_type": "code",
   "execution_count": 62,
   "metadata": {},
   "outputs": [
    {
     "name": "stdout",
     "output_type": "stream",
     "text": [
      "[[ 1  2  3  4  5]\n",
      " [ 6  7  8  9 10]\n",
      " [11 12 13 14 15]\n",
      " [16 17 18 19 20]]\n"
     ]
    }
   ],
   "source": [
    "x = np.arange(1,21).reshape(4,5)\n",
    "print(x)"
   ]
  },
  {
   "cell_type": "code",
   "execution_count": 63,
   "metadata": {},
   "outputs": [
    {
     "name": "stdout",
     "output_type": "stream",
     "text": [
      "[ 1  7 13 19]\n"
     ]
    }
   ],
   "source": [
    "z = np.copy(np.diag(x))   # extracts diagonal values of array x, z being a new array independent of x\n",
    "print(z)"
   ]
  },
  {
   "cell_type": "markdown",
   "metadata": {},
   "source": [
    "# - Extracting values ABOVE the main diagonal of an ndarray"
   ]
  },
  {
   "cell_type": "markdown",
   "metadata": {},
   "source": [
    "print(x, '\\n')\n",
    "print('Diagonal of x is:', np.diag(x), '\\n')\n",
    "\n",
    "j = np.diag(x, k = 1)   # by default, k = 0 : np.diag(x) = np.diag(x, k=0) and gives back the main diagonal of x\n",
    "print(j, '\\n')"
   ]
  },
  {
   "cell_type": "markdown",
   "metadata": {},
   "source": [
    "# - Extracting the values BELOW the main diagonal of an ndarray"
   ]
  },
  {
   "cell_type": "code",
   "execution_count": 64,
   "metadata": {},
   "outputs": [
    {
     "name": "stdout",
     "output_type": "stream",
     "text": [
      "[[ 1  2  3  4  5]\n",
      " [ 6  7  8  9 10]\n",
      " [11 12 13 14 15]\n",
      " [16 17 18 19 20]] \n",
      "\n",
      "Diagonal of x is: [ 1  7 13 19] \n",
      "\n",
      "[ 6 12 18] \n",
      "\n"
     ]
    }
   ],
   "source": [
    "print(x, '\\n')\n",
    "print('Diagonal of x is:', np.diag(x), '\\n')\n",
    "\n",
    "f = np.diag(x, k = -1)   # by default, k = 0 : np.diag(x) = np.diag(x, k=0) and gives back the main diagonal of x\n",
    "print(f, '\\n')"
   ]
  },
  {
   "cell_type": "markdown",
   "metadata": {},
   "source": [
    "# - Extracting the unique elements in an ndarray\n",
    "\n",
    "> Using NumPy's unique function"
   ]
  },
  {
   "cell_type": "code",
   "execution_count": 65,
   "metadata": {},
   "outputs": [
    {
     "name": "stdout",
     "output_type": "stream",
     "text": [
      "[[1 2 3]\n",
      " [3 2 9]\n",
      " [2 7 9]]\n"
     ]
    }
   ],
   "source": [
    "x = np.array( [ [1,2,3], [3,2,9], [2,7,9] ] )\n",
    "print(x)"
   ]
  },
  {
   "cell_type": "code",
   "execution_count": 66,
   "metadata": {},
   "outputs": [
    {
     "name": "stdout",
     "output_type": "stream",
     "text": [
      "[1 2 3 7 9]\n"
     ]
    }
   ],
   "source": [
    "print(np.unique(x))   # prints the unique values of the rank 2 3x3 array x"
   ]
  },
  {
   "cell_type": "markdown",
   "metadata": {},
   "source": [
    "# - Boolean Indexing\n",
    "\n",
    "## Why:\n",
    "> for selecting elements in an array using logical arguments (if element satisfies a condition) instead of explicit indices.\n",
    "> useful when we don't know the indices of the elements we want (e.g. in 1000x1000 arrays) and we want a specific subset of elements that satisfy a specific condition (e.g. elements larger than 10)\n"
   ]
  },
  {
   "cell_type": "code",
   "execution_count": 67,
   "metadata": {},
   "outputs": [
    {
     "name": "stdout",
     "output_type": "stream",
     "text": [
      "[[ 0  1  2  3  4]\n",
      " [ 5  6  7  8  9]\n",
      " [10 11 12 13 14]\n",
      " [15 16 17 18 19]\n",
      " [20 21 22 23 24]]\n"
     ]
    }
   ],
   "source": [
    "x = np.arange(0,25).reshape(5,5)\n",
    "print(x)"
   ]
  },
  {
   "cell_type": "markdown",
   "metadata": {},
   "source": [
    "Select elements greater than 10:"
   ]
  },
  {
   "cell_type": "code",
   "execution_count": 68,
   "metadata": {},
   "outputs": [
    {
     "name": "stdout",
     "output_type": "stream",
     "text": [
      "[11 12 13 14 15 16 17 18 19 20 21 22 23 24]\n"
     ]
    }
   ],
   "source": [
    "print(x[x > 10])   # instead of indices, using a boolean expression for selecting a specific subset of elements in array x"
   ]
  },
  {
   "cell_type": "markdown",
   "metadata": {},
   "source": [
    "Other example:"
   ]
  },
  {
   "cell_type": "code",
   "execution_count": 69,
   "metadata": {},
   "outputs": [
    {
     "name": "stdout",
     "output_type": "stream",
     "text": [
      "[11 12 13 14 15 16]\n"
     ]
    }
   ],
   "source": [
    "print(x[(x > 10) & (x < 17)])  # don't write 'and' + keep () in both sides of & : to make the code work as expected"
   ]
  },
  {
   "cell_type": "markdown",
   "metadata": {},
   "source": [
    "Changing the values of a specific subset of elements of the array x using boolean indexing:"
   ]
  },
  {
   "cell_type": "code",
   "execution_count": 70,
   "metadata": {},
   "outputs": [
    {
     "name": "stdout",
     "output_type": "stream",
     "text": [
      "[[  0   1   2   3   4]\n",
      " [  5   6   7 -15 -15]\n",
      " [-15 -15 -15 -15 -15]\n",
      " [-15 -15 -15 -15 -15]\n",
      " [-15 -15 -15 -15 -15]]\n"
     ]
    }
   ],
   "source": [
    "x[x > 7] = -15\n",
    "print(x)"
   ]
  },
  {
   "cell_type": "markdown",
   "metadata": {},
   "source": [
    "# - Set operations\n",
    "\n",
    "## Create arrays for the intersection, difference and union of two RANK 1 arrays"
   ]
  },
  {
   "cell_type": "code",
   "execution_count": 71,
   "metadata": {},
   "outputs": [
    {
     "name": "stdout",
     "output_type": "stream",
     "text": [
      "[6 8 9] \n",
      "\n",
      "[1 2] \n",
      "\n",
      "[1 2 3 5 6 8 9] \n",
      "\n"
     ]
    }
   ],
   "source": [
    "x = np.array([2,1,6,8,9])\n",
    "y = np.array([6,5,9,8,3])\n",
    "\n",
    "print(np.intersect1d(x, y), '\\n') # intersection of x and y\n",
    "print(np.setdiff1d(x, y), '\\n')   # difference of x and y: (x,y) so returns the values IN x that are not in y, not viceversa\n",
    "print(np.union1d(x, y), '\\n')    # union of x and y"
   ]
  },
  {
   "cell_type": "markdown",
   "metadata": {},
   "source": [
    "# - Sorting NumPy's arrays\n",
    "\n",
    "## Using sort function and sort method:\n",
    "> **DIFFERENCE IN HOW THE DATA IS STORED IN MEMORY**"
   ]
  },
  {
   "cell_type": "markdown",
   "metadata": {},
   "source": [
    "**sort used as a function:**"
   ]
  },
  {
   "cell_type": "code",
   "execution_count": 72,
   "metadata": {},
   "outputs": [
    {
     "name": "stdout",
     "output_type": "stream",
     "text": [
      "[1 2 6 6 8 9]\n",
      "no change to original array x: [2 1 6 6 8 9] \n",
      "\n"
     ]
    }
   ],
   "source": [
    "x = np.array([2,1,6,6,8,9])\n",
    "\n",
    "print(np.sort(x))  # will sort x OUT OF PLACE (and keep repeated values) and leave the original array x as is\n",
    "\n",
    "print('no change to original array x:', x, '\\n')  # original x array did not change"
   ]
  },
  {
   "cell_type": "code",
   "execution_count": 73,
   "metadata": {},
   "outputs": [
    {
     "name": "stdout",
     "output_type": "stream",
     "text": [
      "[1 2 6 8 9]\n"
     ]
    }
   ],
   "source": [
    "print(np.sort(np.unique(x)))  # to sort the unique elements of x out of place"
   ]
  },
  {
   "cell_type": "markdown",
   "metadata": {},
   "source": [
    "**sort used as a method:**"
   ]
  },
  {
   "cell_type": "code",
   "execution_count": 74,
   "metadata": {},
   "outputs": [
    {
     "name": "stdout",
     "output_type": "stream",
     "text": [
      "original x has been changed: [1 2 6 6 8 9] \n",
      "\n"
     ]
    }
   ],
   "source": [
    "x.sort()\n",
    "\n",
    "print('original x has been changed:', x, '\\n')"
   ]
  },
  {
   "cell_type": "markdown",
   "metadata": {},
   "source": [
    "**Sorting rank 2 arrays:**"
   ]
  },
  {
   "cell_type": "code",
   "execution_count": 75,
   "metadata": {},
   "outputs": [
    {
     "name": "stdout",
     "output_type": "stream",
     "text": [
      "[[1 2 4 9 6]\n",
      " [9 8 5 8 0]\n",
      " [6 8 3 8 0]]\n"
     ]
    }
   ],
   "source": [
    "y = np.array( [ [1,2,4,9,6], [9,8,5,8,0], [6,8,3,8,0] ] )\n",
    "\n",
    "print(y)"
   ]
  },
  {
   "cell_type": "markdown",
   "metadata": {},
   "source": [
    "- Sorting rank 2 array by row (axis=0):"
   ]
  },
  {
   "cell_type": "code",
   "execution_count": 76,
   "metadata": {},
   "outputs": [
    {
     "name": "stdout",
     "output_type": "stream",
     "text": [
      "[[1 2 3 8 0]\n",
      " [6 8 4 8 0]\n",
      " [9 8 5 9 6]]\n"
     ]
    }
   ],
   "source": [
    "print(np.sort(y, axis = 0))"
   ]
  },
  {
   "cell_type": "markdown",
   "metadata": {},
   "source": [
    "- Sorting rank 2 array by column (axis=1):"
   ]
  },
  {
   "cell_type": "code",
   "execution_count": 77,
   "metadata": {},
   "outputs": [
    {
     "name": "stdout",
     "output_type": "stream",
     "text": [
      "[[1 2 4 6 9]\n",
      " [0 5 8 8 9]\n",
      " [0 3 6 8 8]]\n"
     ]
    }
   ],
   "source": [
    "print(np.sort(y, axis = 1))"
   ]
  },
  {
   "cell_type": "markdown",
   "metadata": {},
   "source": [
    "# - Arithmetic operations on ndarrays\n",
    "\n",
    "> NumPy allows element-wise operations AND matrix operations.\n",
    "\n",
    "## Here, we'll only look at ELEMENT-WISE operations on arrays"
   ]
  },
  {
   "cell_type": "markdown",
   "metadata": {},
   "source": [
    "**- THE *element-wise* ADDITION OF TWO ARRAYS:**"
   ]
  },
  {
   "cell_type": "code",
   "execution_count": 78,
   "metadata": {},
   "outputs": [
    {
     "name": "stdout",
     "output_type": "stream",
     "text": [
      "[ 3 13 13 13 13]\n",
      "[ 3 13 13 13 13] \n",
      "\n"
     ]
    }
   ],
   "source": [
    "x = np.array([1,5,8,9,6])\n",
    "y = np.array([2,8,5,4,7])\n",
    "\n",
    "print(x + y)\n",
    "# OR\n",
    "print(np.add(x, y), '\\n')"
   ]
  },
  {
   "cell_type": "markdown",
   "metadata": {},
   "source": [
    "**- THE *element-wise* SUBTRACTION OF TWO ARRAYS:**"
   ]
  },
  {
   "cell_type": "code",
   "execution_count": 79,
   "metadata": {},
   "outputs": [
    {
     "name": "stdout",
     "output_type": "stream",
     "text": [
      "[-1 -3  3  5 -1]\n",
      "[-1 -3  3  5 -1] \n",
      "\n"
     ]
    }
   ],
   "source": [
    "print(x - y)\n",
    "# OR\n",
    "print(np.subtract(x,y), '\\n')"
   ]
  },
  {
   "cell_type": "markdown",
   "metadata": {},
   "source": [
    "**- THE *element-wise* MULTIPLICATION OF TWO ARRAYS:**"
   ]
  },
  {
   "cell_type": "code",
   "execution_count": 80,
   "metadata": {},
   "outputs": [
    {
     "name": "stdout",
     "output_type": "stream",
     "text": [
      "[ 2 40 40 36 42]\n",
      "[ 2 40 40 36 42] \n",
      "\n"
     ]
    }
   ],
   "source": [
    "print(x * y)\n",
    "#OR\n",
    "print(np.multiply(x,y), '\\n')"
   ]
  },
  {
   "cell_type": "markdown",
   "metadata": {},
   "source": [
    "**- THE *element-wise* DIVISION OF TWO ARRAYS:**"
   ]
  },
  {
   "cell_type": "code",
   "execution_count": 81,
   "metadata": {},
   "outputs": [
    {
     "name": "stdout",
     "output_type": "stream",
     "text": [
      "[0.5        0.625      1.6        2.25       0.85714286]\n",
      "[0.5        0.625      1.6        2.25       0.85714286] \n",
      "\n"
     ]
    }
   ],
   "source": [
    "print(x / y)\n",
    "#OR\n",
    "print(np.divide(x,y), '\\n')"
   ]
  },
  {
   "cell_type": "markdown",
   "metadata": {},
   "source": [
    "# - Broadcasting\n",
    "> how NumPy handles element-wise arithmetic operations with **arrays of DIFFERENT shapes**\n",
    "\n",
    "> In element-wise arithmetic operations, the arrays operated on MUST have the SAME shape OR be BROADCASTABLE."
   ]
  },
  {
   "cell_type": "markdown",
   "metadata": {},
   "source": [
    "# - Mathematical functions on arrays"
   ]
  },
  {
   "cell_type": "code",
   "execution_count": 86,
   "metadata": {},
   "outputs": [
    {
     "name": "stdout",
     "output_type": "stream",
     "text": [
      "[1 2 3 4 5]\n"
     ]
    }
   ],
   "source": [
    "x = np.array([1,2,3,4,5])\n",
    "print(x)"
   ]
  },
  {
   "cell_type": "code",
   "execution_count": 87,
   "metadata": {},
   "outputs": [
    {
     "name": "stdout",
     "output_type": "stream",
     "text": [
      "[1.         1.41421356 1.73205081 2.         2.23606798]\n"
     ]
    }
   ],
   "source": [
    "print(np.sqrt(x))"
   ]
  },
  {
   "cell_type": "code",
   "execution_count": 88,
   "metadata": {},
   "outputs": [
    {
     "name": "stdout",
     "output_type": "stream",
     "text": [
      "[  2.71828183   7.3890561   20.08553692  54.59815003 148.4131591 ]\n"
     ]
    }
   ],
   "source": [
    "print(np.exp(x))"
   ]
  },
  {
   "cell_type": "code",
   "execution_count": 89,
   "metadata": {},
   "outputs": [
    {
     "name": "stdout",
     "output_type": "stream",
     "text": [
      "[ 1  4  9 16 25]\n"
     ]
    }
   ],
   "source": [
    "print(np.power(x, 2))"
   ]
  },
  {
   "cell_type": "markdown",
   "metadata": {},
   "source": [
    "# - Statistical functions on arrays\n",
    "> Provide statistical info about the elements in an array (e.g. mean, sd)"
   ]
  },
  {
   "cell_type": "code",
   "execution_count": 91,
   "metadata": {},
   "outputs": [
    {
     "name": "stdout",
     "output_type": "stream",
     "text": [
      "[[1 2]\n",
      " [3 4]]\n"
     ]
    }
   ],
   "source": [
    "x = np.array([1,2,3,4]).reshape(2,2)\n",
    "print(x)"
   ]
  },
  {
   "cell_type": "code",
   "execution_count": 93,
   "metadata": {},
   "outputs": [
    {
     "name": "stdout",
     "output_type": "stream",
     "text": [
      "average of all: 2.5\n"
     ]
    }
   ],
   "source": [
    "print('average of all:', x.mean())"
   ]
  },
  {
   "cell_type": "code",
   "execution_count": 101,
   "metadata": {},
   "outputs": [
    {
     "name": "stdout",
     "output_type": "stream",
     "text": [
      "averages of rows: [1.5 3.5]\n"
     ]
    }
   ],
   "source": [
    "print('averages of rows:', x.mean(axis=1))"
   ]
  },
  {
   "cell_type": "code",
   "execution_count": 102,
   "metadata": {},
   "outputs": [
    {
     "name": "stdout",
     "output_type": "stream",
     "text": [
      "averages of columns: [2. 3.]\n"
     ]
    }
   ],
   "source": [
    "print('averages of columns:', x.mean(axis=0))"
   ]
  },
  {
   "cell_type": "code",
   "execution_count": 103,
   "metadata": {},
   "outputs": [
    {
     "name": "stdout",
     "output_type": "stream",
     "text": [
      "sum of all: 10\n"
     ]
    }
   ],
   "source": [
    "print('sum of all:', x.sum())"
   ]
  },
  {
   "cell_type": "code",
   "execution_count": 104,
   "metadata": {},
   "outputs": [
    {
     "name": "stdout",
     "output_type": "stream",
     "text": [
      "sum of columns: [4 6]\n"
     ]
    }
   ],
   "source": [
    "print('sum of columns:', x.sum(axis=0))"
   ]
  },
  {
   "cell_type": "code",
   "execution_count": 105,
   "metadata": {},
   "outputs": [
    {
     "name": "stdout",
     "output_type": "stream",
     "text": [
      "sum of rows: [3 7]\n"
     ]
    }
   ],
   "source": [
    "print('sum of rows:', x.sum(axis=1))"
   ]
  },
  {
   "cell_type": "code",
   "execution_count": 106,
   "metadata": {},
   "outputs": [
    {
     "name": "stdout",
     "output_type": "stream",
     "text": [
      "1.118033988749895\n"
     ]
    }
   ],
   "source": [
    "print(x.std())"
   ]
  },
  {
   "cell_type": "code",
   "execution_count": 108,
   "metadata": {},
   "outputs": [
    {
     "name": "stdout",
     "output_type": "stream",
     "text": [
      "2.5\n"
     ]
    }
   ],
   "source": [
    "print(np.median(x))"
   ]
  },
  {
   "cell_type": "code",
   "execution_count": 109,
   "metadata": {},
   "outputs": [
    {
     "name": "stdout",
     "output_type": "stream",
     "text": [
      "1\n"
     ]
    }
   ],
   "source": [
    "print(x.min())"
   ]
  },
  {
   "cell_type": "code",
   "execution_count": 110,
   "metadata": {},
   "outputs": [
    {
     "name": "stdout",
     "output_type": "stream",
     "text": [
      "4\n"
     ]
    }
   ],
   "source": [
    "print(x.max())"
   ]
  },
  {
   "cell_type": "markdown",
   "metadata": {},
   "source": [
    "# - Adding a number to each element of an array"
   ]
  },
  {
   "cell_type": "code",
   "execution_count": 120,
   "metadata": {},
   "outputs": [
    {
     "name": "stdout",
     "output_type": "stream",
     "text": [
      "[[1 2]\n",
      " [3 4]] \n",
      "\n",
      "[[4 5]\n",
      " [6 7]]\n"
     ]
    }
   ],
   "source": [
    "print(x, '\\n')\n",
    "\n",
    "print(x + 3)"
   ]
  },
  {
   "cell_type": "markdown",
   "metadata": {},
   "source": [
    "# - Subtracting a number from each element of an array"
   ]
  },
  {
   "cell_type": "code",
   "execution_count": 119,
   "metadata": {},
   "outputs": [
    {
     "name": "stdout",
     "output_type": "stream",
     "text": [
      "[[1 2]\n",
      " [3 4]] \n",
      "\n",
      "[[-2 -1]\n",
      " [ 0  1]]\n"
     ]
    }
   ],
   "source": [
    "print(x, '\\n')\n",
    "\n",
    "print(x - 3)"
   ]
  },
  {
   "cell_type": "markdown",
   "metadata": {},
   "source": [
    "# - Multiply by a number each element of an array"
   ]
  },
  {
   "cell_type": "code",
   "execution_count": 118,
   "metadata": {},
   "outputs": [
    {
     "name": "stdout",
     "output_type": "stream",
     "text": [
      "[[1 2]\n",
      " [3 4]] \n",
      "\n",
      "[[ 3  6]\n",
      " [ 9 12]]\n"
     ]
    }
   ],
   "source": [
    "print(x, '\\n')\n",
    "\n",
    "print(x * 3)"
   ]
  },
  {
   "cell_type": "markdown",
   "metadata": {},
   "source": [
    "# - Divide by a number each element of an array"
   ]
  },
  {
   "cell_type": "code",
   "execution_count": 117,
   "metadata": {},
   "outputs": [
    {
     "name": "stdout",
     "output_type": "stream",
     "text": [
      "[[1 2]\n",
      " [3 4]] \n",
      "\n",
      "[[0.33333333 0.66666667]\n",
      " [1.         1.33333333]]\n"
     ]
    }
   ],
   "source": [
    "print(x, '\\n')\n",
    "\n",
    "print(x / 3)"
   ]
  },
  {
   "cell_type": "markdown",
   "metadata": {},
   "source": [
    "# Note on broadcasting:"
   ]
  },
  {
   "cell_type": "markdown",
   "metadata": {},
   "source": [
    "> **NumPy is working behind the scene to BROADCAST the number 3 along the rank 2 2x2 array x\n",
    "SO THAT they have the *same* shape.**"
   ]
  },
  {
   "cell_type": "markdown",
   "metadata": {},
   "source": [
    "**Note: Subject to certain constraints, NumPy can do the same for two arrays of *different* shapes.**"
   ]
  },
  {
   "cell_type": "code",
   "execution_count": 125,
   "metadata": {},
   "outputs": [
    {
     "name": "stdout",
     "output_type": "stream",
     "text": [
      "[[0 1 2]\n",
      " [3 4 5]\n",
      " [6 7 8]] \n",
      "\n",
      "[1 2 3] \n",
      "\n",
      "x + y =\n",
      "[[ 1  3  5]\n",
      " [ 4  6  8]\n",
      " [ 7  9 11]]\n"
     ]
    }
   ],
   "source": [
    "x = np.arange(9).reshape(3,3)\n",
    "y = np.array([1,2,3])\n",
    "\n",
    "print(x, '\\n')\n",
    "print(y, '\\n')\n",
    "\n",
    "print('x + y =') \n",
    "print(x + y)"
   ]
  },
  {
   "cell_type": "markdown",
   "metadata": {},
   "source": [
    "Above, we can see that 1 (from y) is added to every elements in the first column of x, 2 (from y) is added to every elements in the second column of x, and 3 (from y) is added to every elements in the third column of x.\n",
    "\n",
    "**NumPy is able to add a 1x3 array (y) to a 3x3 array (x) by broadcasting the smaller array (y) along the bigger array (x).**\n",
    "> NumPy can do this, provided that the smaller array CAN be extended to fit the shape of the bigger array."
   ]
  },
  {
   "cell_type": "markdown",
   "metadata": {},
   "source": [
    "- See documentation of NumPy for more info on **broadcasting** and its rules."
   ]
  },
  {
   "cell_type": "code",
   "execution_count": null,
   "metadata": {},
   "outputs": [],
   "source": []
  }
 ],
 "metadata": {
  "kernelspec": {
   "display_name": "Python 3",
   "language": "python",
   "name": "python3"
  },
  "language_info": {
   "codemirror_mode": {
    "name": "ipython",
    "version": 3
   },
   "file_extension": ".py",
   "mimetype": "text/x-python",
   "name": "python",
   "nbconvert_exporter": "python",
   "pygments_lexer": "ipython3",
   "version": "3.7.7"
  }
 },
 "nbformat": 4,
 "nbformat_minor": 4
}
